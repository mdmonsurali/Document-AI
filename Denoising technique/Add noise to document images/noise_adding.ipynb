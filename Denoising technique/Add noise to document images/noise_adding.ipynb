{
 "cells": [
  {
   "cell_type": "code",
   "execution_count": 1,
   "id": "cd3a2735-2e4d-4588-8f00-25adfc988314",
   "metadata": {},
   "outputs": [],
   "source": [
    "#pip install PIL"
   ]
  },
  {
   "cell_type": "code",
   "execution_count": 4,
   "id": "f4508367-f41e-4f94-a4e2-85f24013814e",
   "metadata": {},
   "outputs": [],
   "source": [
    "from PIL import Image, ImageDraw, ImageFont\n",
    "import math\n",
    "import os\n",
    "import cv2\n",
    "import numpy as np"
   ]
  },
  {
   "cell_type": "code",
   "execution_count": null,
   "id": "530f8ad7-d0d1-4e80-8ce2-6edf02ee54a6",
   "metadata": {},
   "outputs": [],
   "source": [
    "#images folder path\n",
    "os.chdir(\"clean_images\")"
   ]
  },
  {
   "cell_type": "markdown",
   "id": "2d2dc050-b2c6-49fc-a620-eecb9c18c4e8",
   "metadata": {},
   "source": [
    "## Single line watermark"
   ]
  },
  {
   "cell_type": "code",
   "execution_count": 2,
   "id": "d9b5dff3-0bf5-41fc-8bfb-a30a71c18b73",
   "metadata": {
    "scrolled": true
   },
   "outputs": [
    {
     "name": "stderr",
     "output_type": "stream",
     "text": [
      "/tmp/ipykernel_63270/2371749229.py:29: DeprecationWarning: textsize is deprecated and will be removed in Pillow 10 (2023-07-01). Use textbbox or textlength instead.\n",
      "  text_width, text_height = draw.textsize(watermark_text, font)\n",
      "/tmp/ipykernel_63270/2371749229.py:29: DeprecationWarning: textsize is deprecated and will be removed in Pillow 10 (2023-07-01). Use textbbox or textlength instead.\n",
      "  text_width, text_height = draw.textsize(watermark_text, font)\n",
      "/tmp/ipykernel_63270/2371749229.py:29: DeprecationWarning: textsize is deprecated and will be removed in Pillow 10 (2023-07-01). Use textbbox or textlength instead.\n",
      "  text_width, text_height = draw.textsize(watermark_text, font)\n",
      "/tmp/ipykernel_63270/2371749229.py:29: DeprecationWarning: textsize is deprecated and will be removed in Pillow 10 (2023-07-01). Use textbbox or textlength instead.\n",
      "  text_width, text_height = draw.textsize(watermark_text, font)\n",
      "/tmp/ipykernel_63270/2371749229.py:29: DeprecationWarning: textsize is deprecated and will be removed in Pillow 10 (2023-07-01). Use textbbox or textlength instead.\n",
      "  text_width, text_height = draw.textsize(watermark_text, font)\n",
      "/tmp/ipykernel_63270/2371749229.py:29: DeprecationWarning: textsize is deprecated and will be removed in Pillow 10 (2023-07-01). Use textbbox or textlength instead.\n",
      "  text_width, text_height = draw.textsize(watermark_text, font)\n",
      "/tmp/ipykernel_63270/2371749229.py:29: DeprecationWarning: textsize is deprecated and will be removed in Pillow 10 (2023-07-01). Use textbbox or textlength instead.\n",
      "  text_width, text_height = draw.textsize(watermark_text, font)\n"
     ]
    },
    {
     "name": "stdout",
     "output_type": "stream",
     "text": [
      "Watermarking completed.\n"
     ]
    },
    {
     "name": "stderr",
     "output_type": "stream",
     "text": [
      "/tmp/ipykernel_63270/2371749229.py:29: DeprecationWarning: textsize is deprecated and will be removed in Pillow 10 (2023-07-01). Use textbbox or textlength instead.\n",
      "  text_width, text_height = draw.textsize(watermark_text, font)\n"
     ]
    }
   ],
   "source": [
    "from PIL import Image, ImageDraw, ImageFont\n",
    "\n",
    "# Input and output folder paths\n",
    "input_folder = \"clean_images\"\n",
    "output_folder = \"single_watermark\"\n",
    "\n",
    "# Create the output folder if it doesn't exist\n",
    "if not os.path.exists(output_folder):\n",
    "    os.makedirs(output_folder)\n",
    "\n",
    "# Define watermark text\n",
    "watermark_text = \"CONFIDENTIAL\"\n",
    "\n",
    "# Choose a font and size for the watermark\n",
    "font_size = 300\n",
    "font = ImageFont.truetype(\"/home/monsurali/Downloads/DLA/watermark/arial-cufonfonts/ARIAL.TTF\", font_size)\n",
    "\n",
    "# Iterate through each image file in the input folder\n",
    "for filename in os.listdir(input_folder):\n",
    "    if filename.endswith(\".jpg\") or filename.endswith(\".jpeg\") or filename.endswith(\".png\"):\n",
    "        # Load the original image\n",
    "        original_image = Image.open(os.path.join(input_folder, filename))\n",
    "\n",
    "        # Create a transparent image for the watermark\n",
    "        watermark_image = Image.new(\"RGBA\", original_image.size, (255, 255, 255, 0))\n",
    "\n",
    "        # Draw the watermark text on the transparent image\n",
    "        draw = ImageDraw.Draw(watermark_image)\n",
    "        text_width, text_height = draw.textsize(watermark_text, font)\n",
    "        text_position = ((original_image.width - text_width) // 2, (original_image.height - text_height) // 2)\n",
    "        draw.text(text_position, watermark_text, font=font, fill=(128, 128, 128, 128))  # Gray color 255, 0, 0, 128\n",
    "\n",
    "        #red color watermark\n",
    "        #draw.text(text_position, watermark_text, font=font, fill=(255, 0, 0, 128)) #red\n",
    "\n",
    "        # Rotate the watermark image by 45 degrees\n",
    "        rotated_watermark_image = watermark_image.rotate(45, expand=True)\n",
    "\n",
    "        # Paste the rotated watermark onto the original image\n",
    "        position = ((original_image.width - rotated_watermark_image.width) // 2, (original_image.height - rotated_watermark_image.height) // 2)\n",
    "        original_image.paste(rotated_watermark_image, position, rotated_watermark_image)\n",
    "\n",
    "        # Save the watermarked image with the original filename in the output folder\n",
    "        output_path = os.path.join(output_folder, filename)\n",
    "        original_image.save(output_path)\n",
    "\n",
    "print(\"Watermarking completed.\")\n"
   ]
  },
  {
   "cell_type": "markdown",
   "id": "f8172d0a-65b2-47b2-bf3e-98a12745538f",
   "metadata": {},
   "source": [
    "## Double line watermark"
   ]
  },
  {
   "cell_type": "code",
   "execution_count": 3,
   "id": "daf5763f-e0bc-4dc2-b236-e394e317f52e",
   "metadata": {
    "scrolled": true
   },
   "outputs": [
    {
     "name": "stderr",
     "output_type": "stream",
     "text": [
      "/tmp/ipykernel_63270/508222242.py:28: DeprecationWarning: textsize is deprecated and will be removed in Pillow 10 (2023-07-01). Use textbbox or textlength instead.\n",
      "  text_width1, text_height1 = draw.textsize(watermark_text_line1, font)\n",
      "/tmp/ipykernel_63270/508222242.py:33: DeprecationWarning: textsize is deprecated and will be removed in Pillow 10 (2023-07-01). Use textbbox or textlength instead.\n",
      "  text_width2, text_height2 = draw.textsize(watermark_text_line2, font)\n",
      "/tmp/ipykernel_63270/508222242.py:28: DeprecationWarning: textsize is deprecated and will be removed in Pillow 10 (2023-07-01). Use textbbox or textlength instead.\n",
      "  text_width1, text_height1 = draw.textsize(watermark_text_line1, font)\n",
      "/tmp/ipykernel_63270/508222242.py:33: DeprecationWarning: textsize is deprecated and will be removed in Pillow 10 (2023-07-01). Use textbbox or textlength instead.\n",
      "  text_width2, text_height2 = draw.textsize(watermark_text_line2, font)\n",
      "/tmp/ipykernel_63270/508222242.py:28: DeprecationWarning: textsize is deprecated and will be removed in Pillow 10 (2023-07-01). Use textbbox or textlength instead.\n",
      "  text_width1, text_height1 = draw.textsize(watermark_text_line1, font)\n",
      "/tmp/ipykernel_63270/508222242.py:33: DeprecationWarning: textsize is deprecated and will be removed in Pillow 10 (2023-07-01). Use textbbox or textlength instead.\n",
      "  text_width2, text_height2 = draw.textsize(watermark_text_line2, font)\n",
      "/tmp/ipykernel_63270/508222242.py:28: DeprecationWarning: textsize is deprecated and will be removed in Pillow 10 (2023-07-01). Use textbbox or textlength instead.\n",
      "  text_width1, text_height1 = draw.textsize(watermark_text_line1, font)\n",
      "/tmp/ipykernel_63270/508222242.py:33: DeprecationWarning: textsize is deprecated and will be removed in Pillow 10 (2023-07-01). Use textbbox or textlength instead.\n",
      "  text_width2, text_height2 = draw.textsize(watermark_text_line2, font)\n",
      "/tmp/ipykernel_63270/508222242.py:28: DeprecationWarning: textsize is deprecated and will be removed in Pillow 10 (2023-07-01). Use textbbox or textlength instead.\n",
      "  text_width1, text_height1 = draw.textsize(watermark_text_line1, font)\n",
      "/tmp/ipykernel_63270/508222242.py:33: DeprecationWarning: textsize is deprecated and will be removed in Pillow 10 (2023-07-01). Use textbbox or textlength instead.\n",
      "  text_width2, text_height2 = draw.textsize(watermark_text_line2, font)\n",
      "/tmp/ipykernel_63270/508222242.py:28: DeprecationWarning: textsize is deprecated and will be removed in Pillow 10 (2023-07-01). Use textbbox or textlength instead.\n",
      "  text_width1, text_height1 = draw.textsize(watermark_text_line1, font)\n",
      "/tmp/ipykernel_63270/508222242.py:33: DeprecationWarning: textsize is deprecated and will be removed in Pillow 10 (2023-07-01). Use textbbox or textlength instead.\n",
      "  text_width2, text_height2 = draw.textsize(watermark_text_line2, font)\n",
      "/tmp/ipykernel_63270/508222242.py:28: DeprecationWarning: textsize is deprecated and will be removed in Pillow 10 (2023-07-01). Use textbbox or textlength instead.\n",
      "  text_width1, text_height1 = draw.textsize(watermark_text_line1, font)\n",
      "/tmp/ipykernel_63270/508222242.py:33: DeprecationWarning: textsize is deprecated and will be removed in Pillow 10 (2023-07-01). Use textbbox or textlength instead.\n",
      "  text_width2, text_height2 = draw.textsize(watermark_text_line2, font)\n"
     ]
    },
    {
     "name": "stdout",
     "output_type": "stream",
     "text": [
      "Watermarking completed.\n"
     ]
    },
    {
     "name": "stderr",
     "output_type": "stream",
     "text": [
      "/tmp/ipykernel_63270/508222242.py:28: DeprecationWarning: textsize is deprecated and will be removed in Pillow 10 (2023-07-01). Use textbbox or textlength instead.\n",
      "  text_width1, text_height1 = draw.textsize(watermark_text_line1, font)\n",
      "/tmp/ipykernel_63270/508222242.py:33: DeprecationWarning: textsize is deprecated and will be removed in Pillow 10 (2023-07-01). Use textbbox or textlength instead.\n",
      "  text_width2, text_height2 = draw.textsize(watermark_text_line2, font)\n"
     ]
    }
   ],
   "source": [
    "# Input and output folder paths\n",
    "input_folder = \"clean_images\"\n",
    "output_folder = \"double_watermark\"\n",
    "\n",
    "# Create the output folder if it doesn't exist\n",
    "if not os.path.exists(output_folder):\n",
    "    os.makedirs(output_folder)\n",
    "\n",
    "# Define watermark text\n",
    "watermark_text_line1 = \"CONFIDENTIAL\"\n",
    "watermark_text_line2 = \"Information\"\n",
    "\n",
    "# Choose a font and size for the watermark\n",
    "font_size = 200\n",
    "font = ImageFont.truetype(\"/home/monsurali/Downloads/DLA/watermark/arial-cufonfonts/ARIAL.TTF\", font_size)\n",
    "\n",
    "# Iterate through each image file in the input folder\n",
    "for filename in os.listdir(input_folder):\n",
    "    if filename.endswith(\".jpg\") or filename.endswith(\".jpeg\") or filename.endswith(\".png\"):\n",
    "        # Load the original image\n",
    "        original_image = Image.open(os.path.join(input_folder, filename))\n",
    "\n",
    "        # Create a transparent image for the watermark\n",
    "        watermark_image = Image.new(\"RGBA\", original_image.size, (255, 255, 255, 0))\n",
    "\n",
    "        # Draw the first line of the watermark text on the transparent image\n",
    "        draw = ImageDraw.Draw(watermark_image)\n",
    "        text_width1, text_height1 = draw.textsize(watermark_text_line1, font)\n",
    "        text_position1 = ((original_image.width - text_width1) // 2, (original_image.height - text_height1) // 2 - text_height1)\n",
    "        draw.text(text_position1, watermark_text_line1, font=font, fill=(128, 128, 128, 128))  # Gray color\n",
    "\n",
    "        # Draw the second line of the watermark text on the transparent image\n",
    "        text_width2, text_height2 = draw.textsize(watermark_text_line2, font)\n",
    "        text_position2 = ((original_image.width - text_width2) // 2, (original_image.height - text_height2) // 2)\n",
    "        draw.text(text_position2, watermark_text_line2, font=font, fill=(128, 128, 128, 128))  # Gray color\n",
    "\n",
    "        # Rotate the watermark image by 45 degrees\n",
    "        rotated_watermark_image = watermark_image.rotate(45, expand=True)\n",
    "\n",
    "        # Paste the rotated watermark onto the original image\n",
    "        position = ((original_image.width - rotated_watermark_image.width) // 2, (original_image.height - rotated_watermark_image.height) // 2)\n",
    "        original_image.paste(rotated_watermark_image, position, rotated_watermark_image)\n",
    "\n",
    "        # Save the watermarked image with the original filename in the output folder\n",
    "        output_path = os.path.join(output_folder, filename)\n",
    "        original_image.save(output_path)\n",
    "\n",
    "print(\"Watermarking completed.\")\n"
   ]
  },
  {
   "cell_type": "markdown",
   "id": "e5ce285e-cc23-47e8-a010-85fcd3160d55",
   "metadata": {},
   "source": [
    "## Scan Noise"
   ]
  },
  {
   "cell_type": "code",
   "execution_count": 5,
   "id": "6fbe4bb7-c4d4-4b78-883f-ba82af0def9e",
   "metadata": {
    "scrolled": true
   },
   "outputs": [
    {
     "name": "stdout",
     "output_type": "stream",
     "text": [
      "1c8d7734-Image_382.jpg converted and saved successfully.\n",
      "1cd414bf-Image_96.jpg converted and saved successfully.\n",
      "0fccaf06-Image_313.jpg converted and saved successfully.\n",
      "1da30d1a-Image_185.jpg converted and saved successfully.\n",
      "0f29936f-Page-2268_8bRHNTV.jpg converted and saved successfully.\n",
      "0fbe0398-book_227.jpg converted and saved successfully.\n",
      "0f83e198-book_239.jpg converted and saved successfully.\n",
      "0f9594c7-13d_REN_2007_RIESTER_____Riester2007_Page-9.jpg converted and saved successfully.\n",
      "All images processed.\n"
     ]
    }
   ],
   "source": [
    "# Function to add scan noise to an image\n",
    "def add_scan_noise(image):\n",
    "    # Add Gaussian noise\n",
    "    gaussian_noise = np.random.normal(0, 130, image.shape)\n",
    "    noisy_image = cv2.add(image.astype(np.float64), gaussian_noise)\n",
    "\n",
    "    # Clip pixel values to [0, 255] range\n",
    "    noisy_image = np.clip(noisy_image, 0, 255).astype(np.uint8)\n",
    "    return noisy_image\n",
    "\n",
    "# Set paths\n",
    "image_folder = \"clean_images\"\n",
    "save_folder = \"scan_noise\"\n",
    "\n",
    "# Create the save folder if it doesn't exist\n",
    "os.makedirs(save_folder, exist_ok=True)\n",
    "\n",
    "# Iterate over images in the folder\n",
    "for filename in os.listdir(image_folder):\n",
    "    if filename.endswith(('.jpg', '.jpeg', '.png')):\n",
    "        # Read the image\n",
    "        image_path = os.path.join(image_folder, filename)\n",
    "        image = cv2.imread(image_path)\n",
    "\n",
    "        # Add scan noise\n",
    "        noisy_image = add_scan_noise(image)\n",
    "\n",
    "        # Save the noisy image with the original name\n",
    "        save_path = os.path.join(save_folder, filename)\n",
    "        cv2.imwrite(save_path, noisy_image)\n",
    "\n",
    "        print(f\"{filename} converted and saved successfully.\")\n",
    "\n",
    "print(\"All images processed.\")\n"
   ]
  },
  {
   "cell_type": "markdown",
   "id": "48a523d8-da9b-4d75-9457-feef9f62eb34",
   "metadata": {},
   "source": [
    "## Blur"
   ]
  },
  {
   "cell_type": "code",
   "execution_count": 6,
   "id": "9a2002db-31bb-4359-80b6-19942a6d37c7",
   "metadata": {
    "scrolled": true
   },
   "outputs": [
    {
     "name": "stdout",
     "output_type": "stream",
     "text": [
      "Blurred image saved: blur/1c8d7734-Image_382.jpg\n",
      "Blurred image saved: blur/1cd414bf-Image_96.jpg\n",
      "Blurred image saved: blur/0fccaf06-Image_313.jpg\n",
      "Blurred image saved: blur/1da30d1a-Image_185.jpg\n",
      "Blurred image saved: blur/0f29936f-Page-2268_8bRHNTV.jpg\n",
      "Blurred image saved: blur/0fbe0398-book_227.jpg\n",
      "Blurred image saved: blur/0f83e198-book_239.jpg\n",
      "Blurred image saved: blur/0f9594c7-13d_REN_2007_RIESTER_____Riester2007_Page-9.jpg\n"
     ]
    }
   ],
   "source": [
    "import os\n",
    "import cv2\n",
    "\n",
    "def blur_images(input_folder, output_folder):\n",
    "    # Check if the output folder exists, if not, create it\n",
    "    if not os.path.exists(output_folder):\n",
    "        os.makedirs(output_folder)\n",
    "\n",
    "    # Get the list of image files in the input folder\n",
    "    image_files = [f for f in os.listdir(input_folder) if f.endswith('.jpg') or f.endswith('.png')]\n",
    "\n",
    "    for image_file in image_files:\n",
    "        # Read the image\n",
    "        image_path = os.path.join(input_folder, image_file)\n",
    "        img = cv2.imread(image_path)\n",
    "\n",
    "        # Apply Gaussian blur\n",
    "        blurred_img = cv2.GaussianBlur(img, (15, 15), 0)\n",
    "\n",
    "        # Save the blurred image with the same name in the output folder\n",
    "        output_path = os.path.join(output_folder, image_file)\n",
    "        cv2.imwrite(output_path, blurred_img)\n",
    "\n",
    "        print(f\"Blurred image saved: {output_path}\")\n",
    "\n",
    "if __name__ == \"__main__\":\n",
    "    input_folder = 'clean_images'\n",
    "    output_folder = 'blur'\n",
    "    blur_images(input_folder, output_folder)\n"
   ]
  },
  {
   "cell_type": "code",
   "execution_count": null,
   "id": "3f095e13-18ac-439e-a8cd-9d3a19547068",
   "metadata": {},
   "outputs": [],
   "source": []
  },
  {
   "cell_type": "code",
   "execution_count": null,
   "id": "974a5ad9-9ad0-43f6-b252-e10b7524fc3b",
   "metadata": {},
   "outputs": [],
   "source": []
  },
  {
   "cell_type": "code",
   "execution_count": null,
   "id": "e1d3be16-29d9-4527-a502-756387340460",
   "metadata": {},
   "outputs": [],
   "source": []
  },
  {
   "cell_type": "code",
   "execution_count": null,
   "id": "deeca309-fc78-471f-b5bf-eae73a716226",
   "metadata": {},
   "outputs": [],
   "source": []
  }
 ],
 "metadata": {
  "kernelspec": {
   "display_name": "pytorch2",
   "language": "python",
   "name": "pytorch2"
  },
  "language_info": {
   "codemirror_mode": {
    "name": "ipython",
    "version": 3
   },
   "file_extension": ".py",
   "mimetype": "text/x-python",
   "name": "python",
   "nbconvert_exporter": "python",
   "pygments_lexer": "ipython3",
   "version": "3.8.16"
  }
 },
 "nbformat": 4,
 "nbformat_minor": 5
}
